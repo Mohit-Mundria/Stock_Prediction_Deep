{
 "cells": [
  {
   "cell_type": "code",
   "execution_count": 1,
   "metadata": {
    "id": "dc-PybbXWUnR"
   },
   "outputs": [],
   "source": [
    "import pandas as pd\n",
    "import numpy as np"
   ]
  },
  {
   "cell_type": "markdown",
   "metadata": {},
   "source": [
    "## Here we load or Kaggle Dataset"
   ]
  },
  {
   "cell_type": "code",
   "execution_count": 2,
   "metadata": {
    "colab": {
     "base_uri": "https://localhost:8080/",
     "height": 223
    },
    "id": "-nQcq-ryYajE",
    "outputId": "b25506a3-ea05-4ff9-afc4-4aeefa65ea90"
   },
   "outputs": [
    {
     "data": {
      "text/html": [
       "<div>\n",
       "<style scoped>\n",
       "    .dataframe tbody tr th:only-of-type {\n",
       "        vertical-align: middle;\n",
       "    }\n",
       "\n",
       "    .dataframe tbody tr th {\n",
       "        vertical-align: top;\n",
       "    }\n",
       "\n",
       "    .dataframe thead th {\n",
       "        text-align: right;\n",
       "    }\n",
       "</style>\n",
       "<table border=\"1\" class=\"dataframe\">\n",
       "  <thead>\n",
       "    <tr style=\"text-align: right;\">\n",
       "      <th></th>\n",
       "      <th>Date</th>\n",
       "      <th>Open</th>\n",
       "      <th>High</th>\n",
       "      <th>Low</th>\n",
       "      <th>Close</th>\n",
       "      <th>Volume</th>\n",
       "    </tr>\n",
       "  </thead>\n",
       "  <tbody>\n",
       "    <tr>\n",
       "      <th>0</th>\n",
       "      <td>03-01-2000</td>\n",
       "      <td>4.075000</td>\n",
       "      <td>4.478125</td>\n",
       "      <td>3.952344</td>\n",
       "      <td>4.468750</td>\n",
       "      <td>322352000</td>\n",
       "    </tr>\n",
       "    <tr>\n",
       "      <th>1</th>\n",
       "      <td>04-01-2000</td>\n",
       "      <td>4.268750</td>\n",
       "      <td>4.575000</td>\n",
       "      <td>4.087500</td>\n",
       "      <td>4.096875</td>\n",
       "      <td>349748000</td>\n",
       "    </tr>\n",
       "    <tr>\n",
       "      <th>2</th>\n",
       "      <td>05-01-2000</td>\n",
       "      <td>3.525000</td>\n",
       "      <td>3.756250</td>\n",
       "      <td>3.400000</td>\n",
       "      <td>3.487500</td>\n",
       "      <td>769148000</td>\n",
       "    </tr>\n",
       "    <tr>\n",
       "      <th>3</th>\n",
       "      <td>06-01-2000</td>\n",
       "      <td>3.565625</td>\n",
       "      <td>3.634375</td>\n",
       "      <td>3.200000</td>\n",
       "      <td>3.278125</td>\n",
       "      <td>375040000</td>\n",
       "    </tr>\n",
       "    <tr>\n",
       "      <th>4</th>\n",
       "      <td>07-01-2000</td>\n",
       "      <td>3.350000</td>\n",
       "      <td>3.525000</td>\n",
       "      <td>3.309375</td>\n",
       "      <td>3.478125</td>\n",
       "      <td>210108000</td>\n",
       "    </tr>\n",
       "  </tbody>\n",
       "</table>\n",
       "</div>"
      ],
      "text/plain": [
       "         Date      Open      High       Low     Close     Volume\n",
       "0  03-01-2000  4.075000  4.478125  3.952344  4.468750  322352000\n",
       "1  04-01-2000  4.268750  4.575000  4.087500  4.096875  349748000\n",
       "2  05-01-2000  3.525000  3.756250  3.400000  3.487500  769148000\n",
       "3  06-01-2000  3.565625  3.634375  3.200000  3.278125  375040000\n",
       "4  07-01-2000  3.350000  3.525000  3.309375  3.478125  210108000"
      ]
     },
     "execution_count": 2,
     "metadata": {},
     "output_type": "execute_result"
    }
   ],
   "source": [
    "dataset=pd.read_csv(r'C:\\Users\\ACER\\Desktop\\Amazon_stock.csv')\n",
    "dataset.head(5)"
   ]
  },
  {
   "cell_type": "code",
   "execution_count": 3,
   "metadata": {
    "colab": {
     "base_uri": "https://localhost:8080/"
    },
    "id": "QilrceR9YoPY",
    "outputId": "6ebcab93-2ea9-4ded-c011-65ce6b341d53"
   },
   "outputs": [
    {
     "name": "stdout",
     "output_type": "stream",
     "text": [
      "<class 'pandas.core.frame.DataFrame'>\n",
      "RangeIndex: 6050 entries, 0 to 6049\n",
      "Data columns (total 6 columns):\n",
      " #   Column  Non-Null Count  Dtype  \n",
      "---  ------  --------------  -----  \n",
      " 0   Date    6050 non-null   object \n",
      " 1   Open    6050 non-null   float64\n",
      " 2   High    6050 non-null   float64\n",
      " 3   Low     6050 non-null   float64\n",
      " 4   Close   6050 non-null   float64\n",
      " 5   Volume  6050 non-null   int64  \n",
      "dtypes: float64(4), int64(1), object(1)\n",
      "memory usage: 283.7+ KB\n"
     ]
    }
   ],
   "source": [
    "dataset.info()"
   ]
  },
  {
   "cell_type": "code",
   "execution_count": 4,
   "metadata": {
    "colab": {
     "base_uri": "https://localhost:8080/",
     "height": 337
    },
    "id": "jInrRyucYzVE",
    "outputId": "df9265e8-15e4-469d-8782-ed5a590c29fa"
   },
   "outputs": [
    {
     "data": {
      "text/html": [
       "<div>\n",
       "<style scoped>\n",
       "    .dataframe tbody tr th:only-of-type {\n",
       "        vertical-align: middle;\n",
       "    }\n",
       "\n",
       "    .dataframe tbody tr th {\n",
       "        vertical-align: top;\n",
       "    }\n",
       "\n",
       "    .dataframe thead th {\n",
       "        text-align: right;\n",
       "    }\n",
       "</style>\n",
       "<table border=\"1\" class=\"dataframe\">\n",
       "  <thead>\n",
       "    <tr style=\"text-align: right;\">\n",
       "      <th></th>\n",
       "      <th>Open</th>\n",
       "      <th>High</th>\n",
       "      <th>Low</th>\n",
       "      <th>Close</th>\n",
       "      <th>Volume</th>\n",
       "    </tr>\n",
       "  </thead>\n",
       "  <tbody>\n",
       "    <tr>\n",
       "      <th>count</th>\n",
       "      <td>6050.000000</td>\n",
       "      <td>6050.000000</td>\n",
       "      <td>6050.000000</td>\n",
       "      <td>6050.000000</td>\n",
       "      <td>6.050000e+03</td>\n",
       "    </tr>\n",
       "    <tr>\n",
       "      <th>mean</th>\n",
       "      <td>38.160734</td>\n",
       "      <td>38.614074</td>\n",
       "      <td>37.670999</td>\n",
       "      <td>38.152548</td>\n",
       "      <td>1.215715e+08</td>\n",
       "    </tr>\n",
       "    <tr>\n",
       "      <th>std</th>\n",
       "      <td>51.780179</td>\n",
       "      <td>52.388542</td>\n",
       "      <td>51.116488</td>\n",
       "      <td>51.754349</td>\n",
       "      <td>9.824691e+07</td>\n",
       "    </tr>\n",
       "    <tr>\n",
       "      <th>min</th>\n",
       "      <td>0.295500</td>\n",
       "      <td>0.305000</td>\n",
       "      <td>0.275500</td>\n",
       "      <td>0.298500</td>\n",
       "      <td>1.762600e+07</td>\n",
       "    </tr>\n",
       "    <tr>\n",
       "      <th>25%</th>\n",
       "      <td>2.269625</td>\n",
       "      <td>2.307250</td>\n",
       "      <td>2.231313</td>\n",
       "      <td>2.275125</td>\n",
       "      <td>6.547000e+07</td>\n",
       "    </tr>\n",
       "    <tr>\n",
       "      <th>50%</th>\n",
       "      <td>10.353250</td>\n",
       "      <td>10.634750</td>\n",
       "      <td>10.219750</td>\n",
       "      <td>10.486250</td>\n",
       "      <td>9.917500e+07</td>\n",
       "    </tr>\n",
       "    <tr>\n",
       "      <th>75%</th>\n",
       "      <td>64.440501</td>\n",
       "      <td>65.273502</td>\n",
       "      <td>63.576249</td>\n",
       "      <td>64.713247</td>\n",
       "      <td>1.459845e+08</td>\n",
       "    </tr>\n",
       "    <tr>\n",
       "      <th>max</th>\n",
       "      <td>187.199997</td>\n",
       "      <td>188.654007</td>\n",
       "      <td>184.839493</td>\n",
       "      <td>186.570496</td>\n",
       "      <td>2.086584e+09</td>\n",
       "    </tr>\n",
       "  </tbody>\n",
       "</table>\n",
       "</div>"
      ],
      "text/plain": [
       "              Open         High          Low        Close        Volume\n",
       "count  6050.000000  6050.000000  6050.000000  6050.000000  6.050000e+03\n",
       "mean     38.160734    38.614074    37.670999    38.152548  1.215715e+08\n",
       "std      51.780179    52.388542    51.116488    51.754349  9.824691e+07\n",
       "min       0.295500     0.305000     0.275500     0.298500  1.762600e+07\n",
       "25%       2.269625     2.307250     2.231313     2.275125  6.547000e+07\n",
       "50%      10.353250    10.634750    10.219750    10.486250  9.917500e+07\n",
       "75%      64.440501    65.273502    63.576249    64.713247  1.459845e+08\n",
       "max     187.199997   188.654007   184.839493   186.570496  2.086584e+09"
      ]
     },
     "execution_count": 4,
     "metadata": {},
     "output_type": "execute_result"
    }
   ],
   "source": [
    "dataset.describe()"
   ]
  },
  {
   "cell_type": "code",
   "execution_count": 5,
   "metadata": {
    "colab": {
     "base_uri": "https://localhost:8080/",
     "height": 523
    },
    "id": "MIKYu73zY2f1",
    "outputId": "44064991-f305-4a48-e744-0aecf35c8cc1"
   },
   "outputs": [
    {
     "data": {
      "text/plain": [
       "Date      0\n",
       "Open      0\n",
       "High      0\n",
       "Low       0\n",
       "Close     0\n",
       "Volume    0\n",
       "dtype: int64"
      ]
     },
     "execution_count": 5,
     "metadata": {},
     "output_type": "execute_result"
    }
   ],
   "source": [
    "dataset.isnull().sum()"
   ]
  },
  {
   "cell_type": "code",
   "execution_count": 6,
   "metadata": {
    "id": "k8YQM1cdZjHV"
   },
   "outputs": [],
   "source": [
    "import matplotlib.pyplot as plt\n",
    "import seaborn as sns"
   ]
  },
  {
   "cell_type": "markdown",
   "metadata": {},
   "source": [
    "## Outliers shown by Graphs of each column"
   ]
  },
  {
   "cell_type": "code",
   "execution_count": 7,
   "metadata": {
    "colab": {
     "base_uri": "https://localhost:8080/",
     "height": 1000
    },
    "id": "agQaPJ8EZnZ_",
    "outputId": "589a11bf-4f3f-4102-c71c-98c69cd5ef68",
    "scrolled": true
   },
   "outputs": [
    {
     "data": {
      "image/png": "[encoded data removed]",
      "text/plain": [
       "<Figure size 500x1800 with 6 Axes>"
      ]
     },
     "metadata": {},
     "output_type": "display_data"
    }
   ],
   "source": [
    "plt.figure(figsize=(5,len(dataset.columns)*3))\n",
    "for i,column in enumerate(dataset.columns,1):\n",
    "   plt.subplot(len(dataset.columns),1,i)\n",
    "   sns.boxplot(x=dataset[column])\n",
    "   plt.title(f\"Boxplot for {column}\")\n",
    "plt.tight_layout()\n",
    "plt.show()"
   ]
  },
  {
   "cell_type": "markdown",
   "metadata": {},
   "source": [
    "## Here we remove outlier from the Volume Column by the IQR method"
   ]
  },
  {
   "cell_type": "code",
   "execution_count": 8,
   "metadata": {},
   "outputs": [],
   "source": [
    "q1=dataset[\"Volume\"].quantile(0.25)\n",
    "q3=dataset[\"Volume\"].quantile(0.75)\n",
    "IQR=q3-q1\n",
    "min_range=q1-(1.5*IQR)\n",
    "max_range=q3+(1.5*IQR)\n",
    "dataset=dataset[dataset[\"Volume\"]<=max_range]"
   ]
  },
  {
   "cell_type": "code",
   "execution_count": 9,
   "metadata": {},
   "outputs": [
    {
     "data": {
      "text/html": [
       "<div>\n",
       "<style scoped>\n",
       "    .dataframe tbody tr th:only-of-type {\n",
       "        vertical-align: middle;\n",
       "    }\n",
       "\n",
       "    .dataframe tbody tr th {\n",
       "        vertical-align: top;\n",
       "    }\n",
       "\n",
       "    .dataframe thead th {\n",
       "        text-align: right;\n",
       "    }\n",
       "</style>\n",
       "<table border=\"1\" class=\"dataframe\">\n",
       "  <thead>\n",
       "    <tr style=\"text-align: right;\">\n",
       "      <th></th>\n",
       "      <th>Date</th>\n",
       "      <th>Open</th>\n",
       "      <th>High</th>\n",
       "      <th>Low</th>\n",
       "      <th>Close</th>\n",
       "      <th>Volume</th>\n",
       "    </tr>\n",
       "  </thead>\n",
       "  <tbody>\n",
       "    <tr>\n",
       "      <th>4</th>\n",
       "      <td>07-01-2000</td>\n",
       "      <td>3.350000</td>\n",
       "      <td>3.525000</td>\n",
       "      <td>3.309375</td>\n",
       "      <td>3.478125</td>\n",
       "      <td>210108000</td>\n",
       "    </tr>\n",
       "    <tr>\n",
       "      <th>6</th>\n",
       "      <td>11-01-2000</td>\n",
       "      <td>3.343750</td>\n",
       "      <td>3.500000</td>\n",
       "      <td>3.250000</td>\n",
       "      <td>3.337500</td>\n",
       "      <td>210654000</td>\n",
       "    </tr>\n",
       "    <tr>\n",
       "      <th>7</th>\n",
       "      <td>12-01-2000</td>\n",
       "      <td>3.393750</td>\n",
       "      <td>3.400000</td>\n",
       "      <td>3.150000</td>\n",
       "      <td>3.178125</td>\n",
       "      <td>216090000</td>\n",
       "    </tr>\n",
       "    <tr>\n",
       "      <th>8</th>\n",
       "      <td>13-01-2000</td>\n",
       "      <td>3.246875</td>\n",
       "      <td>3.359375</td>\n",
       "      <td>3.156250</td>\n",
       "      <td>3.296875</td>\n",
       "      <td>208962000</td>\n",
       "    </tr>\n",
       "    <tr>\n",
       "      <th>9</th>\n",
       "      <td>14-01-2000</td>\n",
       "      <td>3.337500</td>\n",
       "      <td>3.431250</td>\n",
       "      <td>3.200000</td>\n",
       "      <td>3.212500</td>\n",
       "      <td>137072000</td>\n",
       "    </tr>\n",
       "    <tr>\n",
       "      <th>...</th>\n",
       "      <td>...</td>\n",
       "      <td>...</td>\n",
       "      <td>...</td>\n",
       "      <td>...</td>\n",
       "      <td>...</td>\n",
       "      <td>...</td>\n",
       "    </tr>\n",
       "    <tr>\n",
       "      <th>6045</th>\n",
       "      <td>12-01-2024</td>\n",
       "      <td>155.389999</td>\n",
       "      <td>156.199997</td>\n",
       "      <td>154.009995</td>\n",
       "      <td>154.619995</td>\n",
       "      <td>40460300</td>\n",
       "    </tr>\n",
       "    <tr>\n",
       "      <th>6046</th>\n",
       "      <td>16-01-2024</td>\n",
       "      <td>153.529999</td>\n",
       "      <td>154.990005</td>\n",
       "      <td>152.149994</td>\n",
       "      <td>153.160004</td>\n",
       "      <td>41384600</td>\n",
       "    </tr>\n",
       "    <tr>\n",
       "      <th>6047</th>\n",
       "      <td>17-01-2024</td>\n",
       "      <td>151.490005</td>\n",
       "      <td>152.149994</td>\n",
       "      <td>149.910004</td>\n",
       "      <td>151.710007</td>\n",
       "      <td>34953400</td>\n",
       "    </tr>\n",
       "    <tr>\n",
       "      <th>6048</th>\n",
       "      <td>18-01-2024</td>\n",
       "      <td>152.770004</td>\n",
       "      <td>153.779999</td>\n",
       "      <td>151.820007</td>\n",
       "      <td>153.500000</td>\n",
       "      <td>37850200</td>\n",
       "    </tr>\n",
       "    <tr>\n",
       "      <th>6049</th>\n",
       "      <td>19-01-2024</td>\n",
       "      <td>153.830002</td>\n",
       "      <td>155.759995</td>\n",
       "      <td>152.740005</td>\n",
       "      <td>155.339996</td>\n",
       "      <td>51033700</td>\n",
       "    </tr>\n",
       "  </tbody>\n",
       "</table>\n",
       "<p>5769 rows × 6 columns</p>\n",
       "</div>"
      ],
      "text/plain": [
       "            Date        Open        High         Low       Close     Volume\n",
       "4     07-01-2000    3.350000    3.525000    3.309375    3.478125  210108000\n",
       "6     11-01-2000    3.343750    3.500000    3.250000    3.337500  210654000\n",
       "7     12-01-2000    3.393750    3.400000    3.150000    3.178125  216090000\n",
       "8     13-01-2000    3.246875    3.359375    3.156250    3.296875  208962000\n",
       "9     14-01-2000    3.337500    3.431250    3.200000    3.212500  137072000\n",
       "...          ...         ...         ...         ...         ...        ...\n",
       "6045  12-01-2024  155.389999  156.199997  154.009995  154.619995   40460300\n",
       "6046  16-01-2024  153.529999  154.990005  152.149994  153.160004   41384600\n",
       "6047  17-01-2024  151.490005  152.149994  149.910004  151.710007   34953400\n",
       "6048  18-01-2024  152.770004  153.779999  151.820007  153.500000   37850200\n",
       "6049  19-01-2024  153.830002  155.759995  152.740005  155.339996   51033700\n",
       "\n",
       "[5769 rows x 6 columns]"
      ]
     },
     "execution_count": 9,
     "metadata": {},
     "output_type": "execute_result"
    }
   ],
   "source": [
    "dataset"
   ]
  },
  {
   "cell_type": "markdown",
   "metadata": {},
   "source": [
    "## Here we split the Date column into the Separate Columns(Day, Month, Year) Because Date columns is treated as a Object Column"
   ]
  },
  {
   "cell_type": "code",
   "execution_count": 10,
   "metadata": {
    "colab": {
     "base_uri": "https://localhost:8080/",
     "height": 206
    },
    "id": "OzE3Aq2MZ5y9",
    "outputId": "abc8ad41-927f-412f-dc80-2ad97a0dbf58"
   },
   "outputs": [
    {
     "data": {
      "text/html": [
       "<div>\n",
       "<style scoped>\n",
       "    .dataframe tbody tr th:only-of-type {\n",
       "        vertical-align: middle;\n",
       "    }\n",
       "\n",
       "    .dataframe tbody tr th {\n",
       "        vertical-align: top;\n",
       "    }\n",
       "\n",
       "    .dataframe thead th {\n",
       "        text-align: right;\n",
       "    }\n",
       "</style>\n",
       "<table border=\"1\" class=\"dataframe\">\n",
       "  <thead>\n",
       "    <tr style=\"text-align: right;\">\n",
       "      <th></th>\n",
       "      <th>Date</th>\n",
       "      <th>Open</th>\n",
       "      <th>High</th>\n",
       "      <th>Low</th>\n",
       "      <th>Close</th>\n",
       "      <th>Volume</th>\n",
       "      <th>Day</th>\n",
       "      <th>Month</th>\n",
       "      <th>Year</th>\n",
       "    </tr>\n",
       "  </thead>\n",
       "  <tbody>\n",
       "    <tr>\n",
       "      <th>4</th>\n",
       "      <td>07-01-2000</td>\n",
       "      <td>3.350000</td>\n",
       "      <td>3.525000</td>\n",
       "      <td>3.309375</td>\n",
       "      <td>3.478125</td>\n",
       "      <td>210108000</td>\n",
       "      <td>7</td>\n",
       "      <td>1</td>\n",
       "      <td>2000</td>\n",
       "    </tr>\n",
       "    <tr>\n",
       "      <th>6</th>\n",
       "      <td>11-01-2000</td>\n",
       "      <td>3.343750</td>\n",
       "      <td>3.500000</td>\n",
       "      <td>3.250000</td>\n",
       "      <td>3.337500</td>\n",
       "      <td>210654000</td>\n",
       "      <td>11</td>\n",
       "      <td>1</td>\n",
       "      <td>2000</td>\n",
       "    </tr>\n",
       "    <tr>\n",
       "      <th>7</th>\n",
       "      <td>12-01-2000</td>\n",
       "      <td>3.393750</td>\n",
       "      <td>3.400000</td>\n",
       "      <td>3.150000</td>\n",
       "      <td>3.178125</td>\n",
       "      <td>216090000</td>\n",
       "      <td>12</td>\n",
       "      <td>1</td>\n",
       "      <td>2000</td>\n",
       "    </tr>\n",
       "    <tr>\n",
       "      <th>8</th>\n",
       "      <td>13-01-2000</td>\n",
       "      <td>3.246875</td>\n",
       "      <td>3.359375</td>\n",
       "      <td>3.156250</td>\n",
       "      <td>3.296875</td>\n",
       "      <td>208962000</td>\n",
       "      <td>13</td>\n",
       "      <td>1</td>\n",
       "      <td>2000</td>\n",
       "    </tr>\n",
       "    <tr>\n",
       "      <th>9</th>\n",
       "      <td>14-01-2000</td>\n",
       "      <td>3.337500</td>\n",
       "      <td>3.431250</td>\n",
       "      <td>3.200000</td>\n",
       "      <td>3.212500</td>\n",
       "      <td>137072000</td>\n",
       "      <td>14</td>\n",
       "      <td>1</td>\n",
       "      <td>2000</td>\n",
       "    </tr>\n",
       "  </tbody>\n",
       "</table>\n",
       "</div>"
      ],
      "text/plain": [
       "         Date      Open      High       Low     Close     Volume  Day  Month  \\\n",
       "4  07-01-2000  3.350000  3.525000  3.309375  3.478125  210108000    7      1   \n",
       "6  11-01-2000  3.343750  3.500000  3.250000  3.337500  210654000   11      1   \n",
       "7  12-01-2000  3.393750  3.400000  3.150000  3.178125  216090000   12      1   \n",
       "8  13-01-2000  3.246875  3.359375  3.156250  3.296875  208962000   13      1   \n",
       "9  14-01-2000  3.337500  3.431250  3.200000  3.212500  137072000   14      1   \n",
       "\n",
       "   Year  \n",
       "4  2000  \n",
       "6  2000  \n",
       "7  2000  \n",
       "8  2000  \n",
       "9  2000  "
      ]
     },
     "execution_count": 10,
     "metadata": {},
     "output_type": "execute_result"
    }
   ],
   "source": [
    "splitted = dataset['Date'].str.split('-', expand=True)\n",
    "\n",
    "dataset['Day'] = splitted[0].astype('int')\n",
    "dataset['Month'] = splitted[1].astype('int')\n",
    "dataset['Year'] = splitted[2].astype('int')\n",
    "\n",
    "dataset.head()\n"
   ]
  },
  {
   "cell_type": "code",
   "execution_count": 11,
   "metadata": {
    "id": "g-KN_iHMbkn2"
   },
   "outputs": [],
   "source": [
    "dataset.drop(\"Date\",inplace=True,axis=1)"
   ]
  },
  {
   "cell_type": "code",
   "execution_count": 12,
   "metadata": {},
   "outputs": [
    {
     "data": {
      "text/html": [
       "<div>\n",
       "<style scoped>\n",
       "    .dataframe tbody tr th:only-of-type {\n",
       "        vertical-align: middle;\n",
       "    }\n",
       "\n",
       "    .dataframe tbody tr th {\n",
       "        vertical-align: top;\n",
       "    }\n",
       "\n",
       "    .dataframe thead th {\n",
       "        text-align: right;\n",
       "    }\n",
       "</style>\n",
       "<table border=\"1\" class=\"dataframe\">\n",
       "  <thead>\n",
       "    <tr style=\"text-align: right;\">\n",
       "      <th></th>\n",
       "      <th>Open</th>\n",
       "      <th>High</th>\n",
       "      <th>Low</th>\n",
       "      <th>Volume</th>\n",
       "      <th>Day</th>\n",
       "      <th>Month</th>\n",
       "      <th>Year</th>\n",
       "      <th>Close</th>\n",
       "    </tr>\n",
       "  </thead>\n",
       "  <tbody>\n",
       "    <tr>\n",
       "      <th>4</th>\n",
       "      <td>3.350000</td>\n",
       "      <td>3.525000</td>\n",
       "      <td>3.309375</td>\n",
       "      <td>210108000</td>\n",
       "      <td>7</td>\n",
       "      <td>1</td>\n",
       "      <td>2000</td>\n",
       "      <td>3.478125</td>\n",
       "    </tr>\n",
       "    <tr>\n",
       "      <th>6</th>\n",
       "      <td>3.343750</td>\n",
       "      <td>3.500000</td>\n",
       "      <td>3.250000</td>\n",
       "      <td>210654000</td>\n",
       "      <td>11</td>\n",
       "      <td>1</td>\n",
       "      <td>2000</td>\n",
       "      <td>3.337500</td>\n",
       "    </tr>\n",
       "    <tr>\n",
       "      <th>7</th>\n",
       "      <td>3.393750</td>\n",
       "      <td>3.400000</td>\n",
       "      <td>3.150000</td>\n",
       "      <td>216090000</td>\n",
       "      <td>12</td>\n",
       "      <td>1</td>\n",
       "      <td>2000</td>\n",
       "      <td>3.178125</td>\n",
       "    </tr>\n",
       "    <tr>\n",
       "      <th>8</th>\n",
       "      <td>3.246875</td>\n",
       "      <td>3.359375</td>\n",
       "      <td>3.156250</td>\n",
       "      <td>208962000</td>\n",
       "      <td>13</td>\n",
       "      <td>1</td>\n",
       "      <td>2000</td>\n",
       "      <td>3.296875</td>\n",
       "    </tr>\n",
       "    <tr>\n",
       "      <th>9</th>\n",
       "      <td>3.337500</td>\n",
       "      <td>3.431250</td>\n",
       "      <td>3.200000</td>\n",
       "      <td>137072000</td>\n",
       "      <td>14</td>\n",
       "      <td>1</td>\n",
       "      <td>2000</td>\n",
       "      <td>3.212500</td>\n",
       "    </tr>\n",
       "    <tr>\n",
       "      <th>...</th>\n",
       "      <td>...</td>\n",
       "      <td>...</td>\n",
       "      <td>...</td>\n",
       "      <td>...</td>\n",
       "      <td>...</td>\n",
       "      <td>...</td>\n",
       "      <td>...</td>\n",
       "      <td>...</td>\n",
       "    </tr>\n",
       "    <tr>\n",
       "      <th>6045</th>\n",
       "      <td>155.389999</td>\n",
       "      <td>156.199997</td>\n",
       "      <td>154.009995</td>\n",
       "      <td>40460300</td>\n",
       "      <td>12</td>\n",
       "      <td>1</td>\n",
       "      <td>2024</td>\n",
       "      <td>154.619995</td>\n",
       "    </tr>\n",
       "    <tr>\n",
       "      <th>6046</th>\n",
       "      <td>153.529999</td>\n",
       "      <td>154.990005</td>\n",
       "      <td>152.149994</td>\n",
       "      <td>41384600</td>\n",
       "      <td>16</td>\n",
       "      <td>1</td>\n",
       "      <td>2024</td>\n",
       "      <td>153.160004</td>\n",
       "    </tr>\n",
       "    <tr>\n",
       "      <th>6047</th>\n",
       "      <td>151.490005</td>\n",
       "      <td>152.149994</td>\n",
       "      <td>149.910004</td>\n",
       "      <td>34953400</td>\n",
       "      <td>17</td>\n",
       "      <td>1</td>\n",
       "      <td>2024</td>\n",
       "      <td>151.710007</td>\n",
       "    </tr>\n",
       "    <tr>\n",
       "      <th>6048</th>\n",
       "      <td>152.770004</td>\n",
       "      <td>153.779999</td>\n",
       "      <td>151.820007</td>\n",
       "      <td>37850200</td>\n",
       "      <td>18</td>\n",
       "      <td>1</td>\n",
       "      <td>2024</td>\n",
       "      <td>153.500000</td>\n",
       "    </tr>\n",
       "    <tr>\n",
       "      <th>6049</th>\n",
       "      <td>153.830002</td>\n",
       "      <td>155.759995</td>\n",
       "      <td>152.740005</td>\n",
       "      <td>51033700</td>\n",
       "      <td>19</td>\n",
       "      <td>1</td>\n",
       "      <td>2024</td>\n",
       "      <td>155.339996</td>\n",
       "    </tr>\n",
       "  </tbody>\n",
       "</table>\n",
       "<p>5769 rows × 8 columns</p>\n",
       "</div>"
      ],
      "text/plain": [
       "            Open        High         Low     Volume  Day  Month  Year  \\\n",
       "4       3.350000    3.525000    3.309375  210108000    7      1  2000   \n",
       "6       3.343750    3.500000    3.250000  210654000   11      1  2000   \n",
       "7       3.393750    3.400000    3.150000  216090000   12      1  2000   \n",
       "8       3.246875    3.359375    3.156250  208962000   13      1  2000   \n",
       "9       3.337500    3.431250    3.200000  137072000   14      1  2000   \n",
       "...          ...         ...         ...        ...  ...    ...   ...   \n",
       "6045  155.389999  156.199997  154.009995   40460300   12      1  2024   \n",
       "6046  153.529999  154.990005  152.149994   41384600   16      1  2024   \n",
       "6047  151.490005  152.149994  149.910004   34953400   17      1  2024   \n",
       "6048  152.770004  153.779999  151.820007   37850200   18      1  2024   \n",
       "6049  153.830002  155.759995  152.740005   51033700   19      1  2024   \n",
       "\n",
       "           Close  \n",
       "4       3.478125  \n",
       "6       3.337500  \n",
       "7       3.178125  \n",
       "8       3.296875  \n",
       "9       3.212500  \n",
       "...          ...  \n",
       "6045  154.619995  \n",
       "6046  153.160004  \n",
       "6047  151.710007  \n",
       "6048  153.500000  \n",
       "6049  155.339996  \n",
       "\n",
       "[5769 rows x 8 columns]"
      ]
     },
     "execution_count": 12,
     "metadata": {},
     "output_type": "execute_result"
    }
   ],
   "source": [
    "dataset[\"Close\"]=dataset.pop(\"Close\")\n",
    "dataset"
   ]
  },
  {
   "cell_type": "markdown",
   "metadata": {},
   "source": [
    "## Here we Standardised the dataset by StandardScaler()"
   ]
  },
  {
   "cell_type": "code",
   "execution_count": 13,
   "metadata": {
    "colab": {
     "base_uri": "https://localhost:8080/",
     "height": 423
    },
    "id": "ig70MkDEbob1",
    "outputId": "7ef69c15-8942-4b6d-fdf2-c0bb1753da46"
   },
   "outputs": [
    {
     "name": "stderr",
     "output_type": "stream",
     "text": [
      "C:\\Users\\ACER\\AppData\\Local\\Temp\\ipykernel_15592\\1250113254.py:7: FutureWarning: Setting an item of incompatible dtype is deprecated and will raise in a future error of pandas. Value '[ 1.9875837   1.99805932  2.10235504 ... -1.3729526  -1.31737427\n",
      " -1.06443412]' has dtype incompatible with int64, please explicitly cast to a compatible dtype first.\n",
      "  dataset.loc[:, features.columns] = features_scaled\n",
      "C:\\Users\\ACER\\AppData\\Local\\Temp\\ipykernel_15592\\1250113254.py:7: FutureWarning: Setting an item of incompatible dtype is deprecated and will raise in a future error of pandas. Value '[-0.9891392  -0.53001467 -0.41523353 ...  0.15867213  0.27345327\n",
      "  0.3882344 ]' has dtype incompatible with int64, please explicitly cast to a compatible dtype first.\n",
      "  dataset.loc[:, features.columns] = features_scaled\n",
      "C:\\Users\\ACER\\AppData\\Local\\Temp\\ipykernel_15592\\1250113254.py:7: FutureWarning: Setting an item of incompatible dtype is deprecated and will raise in a future error of pandas. Value '[-1.62686022 -1.62686022 -1.62686022 ... -1.62686022 -1.62686022\n",
      " -1.62686022]' has dtype incompatible with int64, please explicitly cast to a compatible dtype first.\n",
      "  dataset.loc[:, features.columns] = features_scaled\n",
      "C:\\Users\\ACER\\AppData\\Local\\Temp\\ipykernel_15592\\1250113254.py:7: FutureWarning: Setting an item of incompatible dtype is deprecated and will raise in a future error of pandas. Value '[-1.70821708 -1.70821708 -1.70821708 ...  1.76348101  1.76348101\n",
      "  1.76348101]' has dtype incompatible with int64, please explicitly cast to a compatible dtype first.\n",
      "  dataset.loc[:, features.columns] = features_scaled\n"
     ]
    },
    {
     "data": {
      "text/html": [
       "<div>\n",
       "<style scoped>\n",
       "    .dataframe tbody tr th:only-of-type {\n",
       "        vertical-align: middle;\n",
       "    }\n",
       "\n",
       "    .dataframe tbody tr th {\n",
       "        vertical-align: top;\n",
       "    }\n",
       "\n",
       "    .dataframe thead th {\n",
       "        text-align: right;\n",
       "    }\n",
       "</style>\n",
       "<table border=\"1\" class=\"dataframe\">\n",
       "  <thead>\n",
       "    <tr style=\"text-align: right;\">\n",
       "      <th></th>\n",
       "      <th>Open</th>\n",
       "      <th>High</th>\n",
       "      <th>Low</th>\n",
       "      <th>Volume</th>\n",
       "      <th>Day</th>\n",
       "      <th>Month</th>\n",
       "      <th>Year</th>\n",
       "      <th>Close</th>\n",
       "    </tr>\n",
       "  </thead>\n",
       "  <tbody>\n",
       "    <tr>\n",
       "      <th>4</th>\n",
       "      <td>-0.693970</td>\n",
       "      <td>-0.691393</td>\n",
       "      <td>-0.694015</td>\n",
       "      <td>1.987584</td>\n",
       "      <td>-0.989139</td>\n",
       "      <td>-1.62686</td>\n",
       "      <td>-1.708217</td>\n",
       "      <td>3.478125</td>\n",
       "    </tr>\n",
       "    <tr>\n",
       "      <th>6</th>\n",
       "      <td>-0.694089</td>\n",
       "      <td>-0.691864</td>\n",
       "      <td>-0.695162</td>\n",
       "      <td>1.998059</td>\n",
       "      <td>-0.530015</td>\n",
       "      <td>-1.62686</td>\n",
       "      <td>-1.708217</td>\n",
       "      <td>3.337500</td>\n",
       "    </tr>\n",
       "    <tr>\n",
       "      <th>7</th>\n",
       "      <td>-0.693136</td>\n",
       "      <td>-0.693750</td>\n",
       "      <td>-0.697094</td>\n",
       "      <td>2.102355</td>\n",
       "      <td>-0.415234</td>\n",
       "      <td>-1.62686</td>\n",
       "      <td>-1.708217</td>\n",
       "      <td>3.178125</td>\n",
       "    </tr>\n",
       "    <tr>\n",
       "      <th>8</th>\n",
       "      <td>-0.695938</td>\n",
       "      <td>-0.694516</td>\n",
       "      <td>-0.696974</td>\n",
       "      <td>1.965596</td>\n",
       "      <td>-0.300452</td>\n",
       "      <td>-1.62686</td>\n",
       "      <td>-1.708217</td>\n",
       "      <td>3.296875</td>\n",
       "    </tr>\n",
       "    <tr>\n",
       "      <th>9</th>\n",
       "      <td>-0.694209</td>\n",
       "      <td>-0.693161</td>\n",
       "      <td>-0.696128</td>\n",
       "      <td>0.586307</td>\n",
       "      <td>-0.185671</td>\n",
       "      <td>-1.62686</td>\n",
       "      <td>-1.708217</td>\n",
       "      <td>3.212500</td>\n",
       "    </tr>\n",
       "    <tr>\n",
       "      <th>...</th>\n",
       "      <td>...</td>\n",
       "      <td>...</td>\n",
       "      <td>...</td>\n",
       "      <td>...</td>\n",
       "      <td>...</td>\n",
       "      <td>...</td>\n",
       "      <td>...</td>\n",
       "      <td>...</td>\n",
       "    </tr>\n",
       "    <tr>\n",
       "      <th>6045</th>\n",
       "      <td>2.206655</td>\n",
       "      <td>2.187372</td>\n",
       "      <td>2.218224</td>\n",
       "      <td>-1.267297</td>\n",
       "      <td>-0.415234</td>\n",
       "      <td>-1.62686</td>\n",
       "      <td>1.763481</td>\n",
       "      <td>154.619995</td>\n",
       "    </tr>\n",
       "    <tr>\n",
       "      <th>6046</th>\n",
       "      <td>2.171170</td>\n",
       "      <td>2.164557</td>\n",
       "      <td>2.182280</td>\n",
       "      <td>-1.249563</td>\n",
       "      <td>0.043891</td>\n",
       "      <td>-1.62686</td>\n",
       "      <td>1.763481</td>\n",
       "      <td>153.160004</td>\n",
       "    </tr>\n",
       "    <tr>\n",
       "      <th>6047</th>\n",
       "      <td>2.132251</td>\n",
       "      <td>2.111007</td>\n",
       "      <td>2.138993</td>\n",
       "      <td>-1.372953</td>\n",
       "      <td>0.158672</td>\n",
       "      <td>-1.62686</td>\n",
       "      <td>1.763481</td>\n",
       "      <td>151.710007</td>\n",
       "    </tr>\n",
       "    <tr>\n",
       "      <th>6048</th>\n",
       "      <td>2.156670</td>\n",
       "      <td>2.141742</td>\n",
       "      <td>2.175903</td>\n",
       "      <td>-1.317374</td>\n",
       "      <td>0.273453</td>\n",
       "      <td>-1.62686</td>\n",
       "      <td>1.763481</td>\n",
       "      <td>153.500000</td>\n",
       "    </tr>\n",
       "    <tr>\n",
       "      <th>6049</th>\n",
       "      <td>2.176893</td>\n",
       "      <td>2.179076</td>\n",
       "      <td>2.193682</td>\n",
       "      <td>-1.064434</td>\n",
       "      <td>0.388234</td>\n",
       "      <td>-1.62686</td>\n",
       "      <td>1.763481</td>\n",
       "      <td>155.339996</td>\n",
       "    </tr>\n",
       "  </tbody>\n",
       "</table>\n",
       "<p>5769 rows × 8 columns</p>\n",
       "</div>"
      ],
      "text/plain": [
       "          Open      High       Low    Volume       Day    Month      Year  \\\n",
       "4    -0.693970 -0.691393 -0.694015  1.987584 -0.989139 -1.62686 -1.708217   \n",
       "6    -0.694089 -0.691864 -0.695162  1.998059 -0.530015 -1.62686 -1.708217   \n",
       "7    -0.693136 -0.693750 -0.697094  2.102355 -0.415234 -1.62686 -1.708217   \n",
       "8    -0.695938 -0.694516 -0.696974  1.965596 -0.300452 -1.62686 -1.708217   \n",
       "9    -0.694209 -0.693161 -0.696128  0.586307 -0.185671 -1.62686 -1.708217   \n",
       "...        ...       ...       ...       ...       ...      ...       ...   \n",
       "6045  2.206655  2.187372  2.218224 -1.267297 -0.415234 -1.62686  1.763481   \n",
       "6046  2.171170  2.164557  2.182280 -1.249563  0.043891 -1.62686  1.763481   \n",
       "6047  2.132251  2.111007  2.138993 -1.372953  0.158672 -1.62686  1.763481   \n",
       "6048  2.156670  2.141742  2.175903 -1.317374  0.273453 -1.62686  1.763481   \n",
       "6049  2.176893  2.179076  2.193682 -1.064434  0.388234 -1.62686  1.763481   \n",
       "\n",
       "           Close  \n",
       "4       3.478125  \n",
       "6       3.337500  \n",
       "7       3.178125  \n",
       "8       3.296875  \n",
       "9       3.212500  \n",
       "...          ...  \n",
       "6045  154.619995  \n",
       "6046  153.160004  \n",
       "6047  151.710007  \n",
       "6048  153.500000  \n",
       "6049  155.339996  \n",
       "\n",
       "[5769 rows x 8 columns]"
      ]
     },
     "execution_count": 13,
     "metadata": {},
     "output_type": "execute_result"
    }
   ],
   "source": [
    "from sklearn.preprocessing import StandardScaler\n",
    "ss=StandardScaler()\n",
    "features=dataset.drop(\"Close\",axis=1)\n",
    "#target=dataset[[\"Close\"]]\n",
    "features_scaled=ss.fit_transform(features)\n",
    "#target_scaled=ss.fit_transform(target)\n",
    "dataset.loc[:, features.columns] = features_scaled\n",
    "dataset.to_csv('Amazon_Stock_Prediction.csv', index=True)\n",
    "dataset"
   ]
  },
  {
   "cell_type": "markdown",
   "metadata": {},
   "source": [
    "## Here we split the dataset into the train and test dataset by using the train_test_split"
   ]
  },
  {
   "cell_type": "code",
   "execution_count": 14,
   "metadata": {
    "id": "GOHpdnoKcw8_"
   },
   "outputs": [],
   "source": [
    "from sklearn.model_selection import train_test_split\n",
    "x=dataset.drop(\"Close\",axis=1)\n",
    "y=dataset[\"Close\"]\n",
    "x_train,x_test,y_train,y_test=train_test_split(x,y,test_size=0.2,random_state=42)"
   ]
  },
  {
   "cell_type": "code",
   "execution_count": 15,
   "metadata": {
    "colab": {
     "base_uri": "https://localhost:8080/",
     "height": 463
    },
    "id": "uR1MWHw6cyS9",
    "outputId": "888b104c-c488-4b15-e7b7-da2527c47df4"
   },
   "outputs": [
    {
     "data": {
      "text/html": [
       "<div>\n",
       "<style scoped>\n",
       "    .dataframe tbody tr th:only-of-type {\n",
       "        vertical-align: middle;\n",
       "    }\n",
       "\n",
       "    .dataframe tbody tr th {\n",
       "        vertical-align: top;\n",
       "    }\n",
       "\n",
       "    .dataframe thead th {\n",
       "        text-align: right;\n",
       "    }\n",
       "</style>\n",
       "<table border=\"1\" class=\"dataframe\">\n",
       "  <thead>\n",
       "    <tr style=\"text-align: right;\">\n",
       "      <th></th>\n",
       "      <th>Open</th>\n",
       "      <th>High</th>\n",
       "      <th>Low</th>\n",
       "      <th>Volume</th>\n",
       "      <th>Day</th>\n",
       "      <th>Month</th>\n",
       "      <th>Year</th>\n",
       "      <th>Close</th>\n",
       "    </tr>\n",
       "  </thead>\n",
       "  <tbody>\n",
       "    <tr>\n",
       "      <th>Open</th>\n",
       "      <td>1.000000</td>\n",
       "      <td>0.999910</td>\n",
       "      <td>0.999895</td>\n",
       "      <td>-0.395676</td>\n",
       "      <td>0.005368</td>\n",
       "      <td>0.034558</td>\n",
       "      <td>0.828340</td>\n",
       "      <td>0.999782</td>\n",
       "    </tr>\n",
       "    <tr>\n",
       "      <th>High</th>\n",
       "      <td>0.999910</td>\n",
       "      <td>1.000000</td>\n",
       "      <td>0.999872</td>\n",
       "      <td>-0.393694</td>\n",
       "      <td>0.005258</td>\n",
       "      <td>0.033991</td>\n",
       "      <td>0.828387</td>\n",
       "      <td>0.999898</td>\n",
       "    </tr>\n",
       "    <tr>\n",
       "      <th>Low</th>\n",
       "      <td>0.999895</td>\n",
       "      <td>0.999872</td>\n",
       "      <td>1.000000</td>\n",
       "      <td>-0.398049</td>\n",
       "      <td>0.005551</td>\n",
       "      <td>0.034616</td>\n",
       "      <td>0.828448</td>\n",
       "      <td>0.999902</td>\n",
       "    </tr>\n",
       "    <tr>\n",
       "      <th>Volume</th>\n",
       "      <td>-0.395676</td>\n",
       "      <td>-0.393694</td>\n",
       "      <td>-0.398049</td>\n",
       "      <td>1.000000</td>\n",
       "      <td>0.003298</td>\n",
       "      <td>-0.046028</td>\n",
       "      <td>-0.536859</td>\n",
       "      <td>-0.395907</td>\n",
       "    </tr>\n",
       "    <tr>\n",
       "      <th>Day</th>\n",
       "      <td>0.005368</td>\n",
       "      <td>0.005258</td>\n",
       "      <td>0.005551</td>\n",
       "      <td>0.003298</td>\n",
       "      <td>1.000000</td>\n",
       "      <td>-0.002686</td>\n",
       "      <td>0.002313</td>\n",
       "      <td>0.005360</td>\n",
       "    </tr>\n",
       "    <tr>\n",
       "      <th>Month</th>\n",
       "      <td>0.034558</td>\n",
       "      <td>0.033991</td>\n",
       "      <td>0.034616</td>\n",
       "      <td>-0.046028</td>\n",
       "      <td>-0.002686</td>\n",
       "      <td>1.000000</td>\n",
       "      <td>-0.009750</td>\n",
       "      <td>0.034134</td>\n",
       "    </tr>\n",
       "    <tr>\n",
       "      <th>Year</th>\n",
       "      <td>0.828340</td>\n",
       "      <td>0.828387</td>\n",
       "      <td>0.828448</td>\n",
       "      <td>-0.536859</td>\n",
       "      <td>0.002313</td>\n",
       "      <td>-0.009750</td>\n",
       "      <td>1.000000</td>\n",
       "      <td>0.828559</td>\n",
       "    </tr>\n",
       "    <tr>\n",
       "      <th>Close</th>\n",
       "      <td>0.999782</td>\n",
       "      <td>0.999898</td>\n",
       "      <td>0.999902</td>\n",
       "      <td>-0.395907</td>\n",
       "      <td>0.005360</td>\n",
       "      <td>0.034134</td>\n",
       "      <td>0.828559</td>\n",
       "      <td>1.000000</td>\n",
       "    </tr>\n",
       "  </tbody>\n",
       "</table>\n",
       "</div>"
      ],
      "text/plain": [
       "            Open      High       Low    Volume       Day     Month      Year  \\\n",
       "Open    1.000000  0.999910  0.999895 -0.395676  0.005368  0.034558  0.828340   \n",
       "High    0.999910  1.000000  0.999872 -0.393694  0.005258  0.033991  0.828387   \n",
       "Low     0.999895  0.999872  1.000000 -0.398049  0.005551  0.034616  0.828448   \n",
       "Volume -0.395676 -0.393694 -0.398049  1.000000  0.003298 -0.046028 -0.536859   \n",
       "Day     0.005368  0.005258  0.005551  0.003298  1.000000 -0.002686  0.002313   \n",
       "Month   0.034558  0.033991  0.034616 -0.046028 -0.002686  1.000000 -0.009750   \n",
       "Year    0.828340  0.828387  0.828448 -0.536859  0.002313 -0.009750  1.000000   \n",
       "Close   0.999782  0.999898  0.999902 -0.395907  0.005360  0.034134  0.828559   \n",
       "\n",
       "           Close  \n",
       "Open    0.999782  \n",
       "High    0.999898  \n",
       "Low     0.999902  \n",
       "Volume -0.395907  \n",
       "Day     0.005360  \n",
       "Month   0.034134  \n",
       "Year    0.828559  \n",
       "Close   1.000000  "
      ]
     },
     "execution_count": 15,
     "metadata": {},
     "output_type": "execute_result"
    }
   ],
   "source": [
    "dataset.corr()"
   ]
  },
  {
   "cell_type": "code",
   "execution_count": 16,
   "metadata": {
    "id": "Ym16UJmOdGNQ"
   },
   "outputs": [],
   "source": [
    "#from sklearn import set_config\n",
    "#set_config(display=\"text\")\n"
   ]
  },
  {
   "cell_type": "code",
   "execution_count": 17,
   "metadata": {
    "id": "WQa9g6RzbuDH"
   },
   "outputs": [],
   "source": [
    "import tensorflow as tf\n",
    "from tensorflow import keras\n",
    "from tensorflow.keras import Sequential\n",
    "from tensorflow.keras.layers import Dense"
   ]
  },
  {
   "cell_type": "markdown",
   "metadata": {},
   "source": [
    "## Here we made our model with 1 Input layer, 3 Hidden layers, and 1 output layer. Activation fun is relu() in Hidden layers and linear() in Output layers. Optimizer is adam and we run our model on 50 epochs"
   ]
  },
  {
   "cell_type": "code",
   "execution_count": 18,
   "metadata": {
    "id": "yYhgG_2Fb19Y"
   },
   "outputs": [],
   "source": [
    "model=Sequential()"
   ]
  },
  {
   "cell_type": "code",
   "execution_count": 19,
   "metadata": {
    "colab": {
     "base_uri": "https://localhost:8080/",
     "height": 520
    },
    "id": "C7kvLj0Qb-57",
    "outputId": "2b0cd497-4b34-4133-fe86-a8a6897957e8"
   },
   "outputs": [
    {
     "name": "stderr",
     "output_type": "stream",
     "text": [
      "C:\\Users\\ACER\\AppData\\Local\\Programs\\Python\\Python310\\lib\\site-packages\\keras\\src\\layers\\core\\dense.py:87: UserWarning: Do not pass an `input_shape`/`input_dim` argument to a layer. When using Sequential models, prefer using an `Input(shape)` object as the first layer in the model instead.\n",
      "  super().__init__(activity_regularizer=activity_regularizer, **kwargs)\n"
     ]
    },
    {
     "data": {
      "text/html": [
       "<pre style=\"white-space:pre;overflow-x:auto;line-height:normal;font-family:Menlo,'DejaVu Sans Mono',consolas,'Courier New',monospace\"><span style=\"font-weight: bold\">Model: \"sequential\"</span>\n",
       "</pre>\n"
      ],
      "text/plain": [
       "\u001b[1mModel: \"sequential\"\u001b[0m\n"
      ]
     },
     "metadata": {},
     "output_type": "display_data"
    },
    {
     "data": {
      "text/html": [
       "<pre style=\"white-space:pre;overflow-x:auto;line-height:normal;font-family:Menlo,'DejaVu Sans Mono',consolas,'Courier New',monospace\">┏━━━━━━━━━━━━━━━━━━━━━━━━━━━━━━━┳━━━━━━━━━━━━━━━━━━━━━━━┳━━━━━━━━━━━━━━┓\n",
       "┃<span style=\"font-weight: bold\"> Layer (type)                  </span>┃<span style=\"font-weight: bold\"> Output Shape          </span>┃<span style=\"font-weight: bold\">      Param # </span>┃\n",
       "┡━━━━━━━━━━━━━━━━━━━━━━━━━━━━━━━╇━━━━━━━━━━━━━━━━━━━━━━━╇━━━━━━━━━━━━━━┩\n",
       "│ dense (<span style=\"color: #0087ff; text-decoration-color: #0087ff\">Dense</span>)                 │ (<span style=\"color: #00d7ff; text-decoration-color: #00d7ff\">None</span>, <span style=\"color: #00af00; text-decoration-color: #00af00\">7</span>)             │           <span style=\"color: #00af00; text-decoration-color: #00af00\">56</span> │\n",
       "├───────────────────────────────┼───────────────────────┼──────────────┤\n",
       "│ dense_1 (<span style=\"color: #0087ff; text-decoration-color: #0087ff\">Dense</span>)               │ (<span style=\"color: #00d7ff; text-decoration-color: #00d7ff\">None</span>, <span style=\"color: #00af00; text-decoration-color: #00af00\">5</span>)             │           <span style=\"color: #00af00; text-decoration-color: #00af00\">40</span> │\n",
       "├───────────────────────────────┼───────────────────────┼──────────────┤\n",
       "│ dense_2 (<span style=\"color: #0087ff; text-decoration-color: #0087ff\">Dense</span>)               │ (<span style=\"color: #00d7ff; text-decoration-color: #00d7ff\">None</span>, <span style=\"color: #00af00; text-decoration-color: #00af00\">4</span>)             │           <span style=\"color: #00af00; text-decoration-color: #00af00\">24</span> │\n",
       "├───────────────────────────────┼───────────────────────┼──────────────┤\n",
       "│ dense_3 (<span style=\"color: #0087ff; text-decoration-color: #0087ff\">Dense</span>)               │ (<span style=\"color: #00d7ff; text-decoration-color: #00d7ff\">None</span>, <span style=\"color: #00af00; text-decoration-color: #00af00\">2</span>)             │           <span style=\"color: #00af00; text-decoration-color: #00af00\">10</span> │\n",
       "├───────────────────────────────┼───────────────────────┼──────────────┤\n",
       "│ dense_4 (<span style=\"color: #0087ff; text-decoration-color: #0087ff\">Dense</span>)               │ (<span style=\"color: #00d7ff; text-decoration-color: #00d7ff\">None</span>, <span style=\"color: #00af00; text-decoration-color: #00af00\">1</span>)             │            <span style=\"color: #00af00; text-decoration-color: #00af00\">3</span> │\n",
       "└───────────────────────────────┴───────────────────────┴──────────────┘\n",
       "</pre>\n"
      ],
      "text/plain": [
       "┏━━━━━━━━━━━━━━━━━━━━━━━━━━━━━━━┳━━━━━━━━━━━━━━━━━━━━━━━┳━━━━━━━━━━━━━━┓\n",
       "┃\u001b[1m \u001b[0m\u001b[1mLayer (type)                 \u001b[0m\u001b[1m \u001b[0m┃\u001b[1m \u001b[0m\u001b[1mOutput Shape         \u001b[0m\u001b[1m \u001b[0m┃\u001b[1m \u001b[0m\u001b[1m     Param #\u001b[0m\u001b[1m \u001b[0m┃\n",
       "┡━━━━━━━━━━━━━━━━━━━━━━━━━━━━━━━╇━━━━━━━━━━━━━━━━━━━━━━━╇━━━━━━━━━━━━━━┩\n",
       "│ dense (\u001b[38;5;33mDense\u001b[0m)                 │ (\u001b[38;5;45mNone\u001b[0m, \u001b[38;5;34m7\u001b[0m)             │           \u001b[38;5;34m56\u001b[0m │\n",
       "├───────────────────────────────┼───────────────────────┼──────────────┤\n",
       "│ dense_1 (\u001b[38;5;33mDense\u001b[0m)               │ (\u001b[38;5;45mNone\u001b[0m, \u001b[38;5;34m5\u001b[0m)             │           \u001b[38;5;34m40\u001b[0m │\n",
       "├───────────────────────────────┼───────────────────────┼──────────────┤\n",
       "│ dense_2 (\u001b[38;5;33mDense\u001b[0m)               │ (\u001b[38;5;45mNone\u001b[0m, \u001b[38;5;34m4\u001b[0m)             │           \u001b[38;5;34m24\u001b[0m │\n",
       "├───────────────────────────────┼───────────────────────┼──────────────┤\n",
       "│ dense_3 (\u001b[38;5;33mDense\u001b[0m)               │ (\u001b[38;5;45mNone\u001b[0m, \u001b[38;5;34m2\u001b[0m)             │           \u001b[38;5;34m10\u001b[0m │\n",
       "├───────────────────────────────┼───────────────────────┼──────────────┤\n",
       "│ dense_4 (\u001b[38;5;33mDense\u001b[0m)               │ (\u001b[38;5;45mNone\u001b[0m, \u001b[38;5;34m1\u001b[0m)             │            \u001b[38;5;34m3\u001b[0m │\n",
       "└───────────────────────────────┴───────────────────────┴──────────────┘\n"
      ]
     },
     "metadata": {},
     "output_type": "display_data"
    },
    {
     "data": {
      "text/html": [
       "<pre style=\"white-space:pre;overflow-x:auto;line-height:normal;font-family:Menlo,'DejaVu Sans Mono',consolas,'Courier New',monospace\"><span style=\"font-weight: bold\"> Total params: </span><span style=\"color: #00af00; text-decoration-color: #00af00\">133</span> (532.00 B)\n",
       "</pre>\n"
      ],
      "text/plain": [
       "\u001b[1m Total params: \u001b[0m\u001b[38;5;34m133\u001b[0m (532.00 B)\n"
      ]
     },
     "metadata": {},
     "output_type": "display_data"
    },
    {
     "data": {
      "text/html": [
       "<pre style=\"white-space:pre;overflow-x:auto;line-height:normal;font-family:Menlo,'DejaVu Sans Mono',consolas,'Courier New',monospace\"><span style=\"font-weight: bold\"> Trainable params: </span><span style=\"color: #00af00; text-decoration-color: #00af00\">133</span> (532.00 B)\n",
       "</pre>\n"
      ],
      "text/plain": [
       "\u001b[1m Trainable params: \u001b[0m\u001b[38;5;34m133\u001b[0m (532.00 B)\n"
      ]
     },
     "metadata": {},
     "output_type": "display_data"
    },
    {
     "data": {
      "text/html": [
       "<pre style=\"white-space:pre;overflow-x:auto;line-height:normal;font-family:Menlo,'DejaVu Sans Mono',consolas,'Courier New',monospace\"><span style=\"font-weight: bold\"> Non-trainable params: </span><span style=\"color: #00af00; text-decoration-color: #00af00\">0</span> (0.00 B)\n",
       "</pre>\n"
      ],
      "text/plain": [
       "\u001b[1m Non-trainable params: \u001b[0m\u001b[38;5;34m0\u001b[0m (0.00 B)\n"
      ]
     },
     "metadata": {},
     "output_type": "display_data"
    }
   ],
   "source": [
    "model.add(Dense(7,activation='relu',input_dim=7))\n",
    "model.add(Dense(5,activation='relu'))\n",
    "model.add(Dense(4,activation='relu'))\n",
    "model.add(Dense(2,activation='relu'))\n",
    "model.add(Dense(1,activation='linear'))\n",
    "model.summary()"
   ]
  },
  {
   "cell_type": "markdown",
   "metadata": {},
   "source": [
    "## Here we train our model"
   ]
  },
  {
   "cell_type": "code",
   "execution_count": 20,
   "metadata": {
    "colab": {
     "base_uri": "https://localhost:8080/"
    },
    "id": "yDLQZ5KIcF8z",
    "outputId": "81c2d493-c387-4c1f-f96f-668ab9f69740",
    "scrolled": true
   },
   "outputs": [
    {
     "name": "stdout",
     "output_type": "stream",
     "text": [
      "Epoch 1/50\n",
      "\u001b[1m101/101\u001b[0m \u001b[32m━━━━━━━━━━━━━━━━━━━━\u001b[0m\u001b[37m\u001b[0m \u001b[1m5s\u001b[0m 14ms/step - loss: 4114.4009 - val_loss: 4423.8149\n",
      "Epoch 2/50\n",
      "\u001b[1m101/101\u001b[0m \u001b[32m━━━━━━━━━━━━━━━━━━━━\u001b[0m\u001b[37m\u001b[0m \u001b[1m1s\u001b[0m 7ms/step - loss: 4125.8555 - val_loss: 4063.5559\n",
      "Epoch 3/50\n",
      "\u001b[1m101/101\u001b[0m \u001b[32m━━━━━━━━━━━━━━━━━━━━\u001b[0m\u001b[37m\u001b[0m \u001b[1m1s\u001b[0m 6ms/step - loss: 3509.4468 - val_loss: 2154.7744\n",
      "Epoch 4/50\n",
      "\u001b[1m101/101\u001b[0m \u001b[32m━━━━━━━━━━━━━━━━━━━━\u001b[0m\u001b[37m\u001b[0m \u001b[1m1s\u001b[0m 8ms/step - loss: 1291.6422 - val_loss: 78.2866\n",
      "Epoch 5/50\n",
      "\u001b[1m101/101\u001b[0m \u001b[32m━━━━━━━━━━━━━━━━━━━━\u001b[0m\u001b[37m\u001b[0m \u001b[1m1s\u001b[0m 6ms/step - loss: 56.7783 - val_loss: 36.0935\n",
      "Epoch 6/50\n",
      "\u001b[1m101/101\u001b[0m \u001b[32m━━━━━━━━━━━━━━━━━━━━\u001b[0m\u001b[37m\u001b[0m \u001b[1m1s\u001b[0m 7ms/step - loss: 30.0366 - val_loss: 25.5531\n",
      "Epoch 7/50\n",
      "\u001b[1m101/101\u001b[0m \u001b[32m━━━━━━━━━━━━━━━━━━━━\u001b[0m\u001b[37m\u001b[0m \u001b[1m1s\u001b[0m 8ms/step - loss: 23.4464 - val_loss: 20.4095\n",
      "Epoch 8/50\n",
      "\u001b[1m101/101\u001b[0m \u001b[32m━━━━━━━━━━━━━━━━━━━━\u001b[0m\u001b[37m\u001b[0m \u001b[1m1s\u001b[0m 6ms/step - loss: 16.9816 - val_loss: 17.2717\n",
      "Epoch 9/50\n",
      "\u001b[1m101/101\u001b[0m \u001b[32m━━━━━━━━━━━━━━━━━━━━\u001b[0m\u001b[37m\u001b[0m \u001b[1m1s\u001b[0m 6ms/step - loss: 14.9703 - val_loss: 14.8262\n",
      "Epoch 10/50\n",
      "\u001b[1m101/101\u001b[0m \u001b[32m━━━━━━━━━━━━━━━━━━━━\u001b[0m\u001b[37m\u001b[0m \u001b[1m1s\u001b[0m 6ms/step - loss: 12.8859 - val_loss: 13.1084\n",
      "Epoch 11/50\n",
      "\u001b[1m101/101\u001b[0m \u001b[32m━━━━━━━━━━━━━━━━━━━━\u001b[0m\u001b[37m\u001b[0m \u001b[1m1s\u001b[0m 6ms/step - loss: 11.8093 - val_loss: 11.7322\n",
      "Epoch 12/50\n",
      "\u001b[1m101/101\u001b[0m \u001b[32m━━━━━━━━━━━━━━━━━━━━\u001b[0m\u001b[37m\u001b[0m \u001b[1m1s\u001b[0m 6ms/step - loss: 10.0918 - val_loss: 10.7892\n",
      "Epoch 13/50\n",
      "\u001b[1m101/101\u001b[0m \u001b[32m━━━━━━━━━━━━━━━━━━━━\u001b[0m\u001b[37m\u001b[0m \u001b[1m1s\u001b[0m 6ms/step - loss: 9.2313 - val_loss: 9.9521\n",
      "Epoch 14/50\n",
      "\u001b[1m101/101\u001b[0m \u001b[32m━━━━━━━━━━━━━━━━━━━━\u001b[0m\u001b[37m\u001b[0m \u001b[1m1s\u001b[0m 8ms/step - loss: 8.8325 - val_loss: 9.6941\n",
      "Epoch 15/50\n",
      "\u001b[1m101/101\u001b[0m \u001b[32m━━━━━━━━━━━━━━━━━━━━\u001b[0m\u001b[37m\u001b[0m \u001b[1m1s\u001b[0m 8ms/step - loss: 8.7746 - val_loss: 8.9057\n",
      "Epoch 16/50\n",
      "\u001b[1m101/101\u001b[0m \u001b[32m━━━━━━━━━━━━━━━━━━━━\u001b[0m\u001b[37m\u001b[0m \u001b[1m1s\u001b[0m 6ms/step - loss: 7.7609 - val_loss: 8.4782\n",
      "Epoch 17/50\n",
      "\u001b[1m101/101\u001b[0m \u001b[32m━━━━━━━━━━━━━━━━━━━━\u001b[0m\u001b[37m\u001b[0m \u001b[1m1s\u001b[0m 6ms/step - loss: 7.6716 - val_loss: 8.2696\n",
      "Epoch 18/50\n",
      "\u001b[1m101/101\u001b[0m \u001b[32m━━━━━━━━━━━━━━━━━━━━\u001b[0m\u001b[37m\u001b[0m \u001b[1m1s\u001b[0m 6ms/step - loss: 7.3161 - val_loss: 7.7780\n",
      "Epoch 19/50\n",
      "\u001b[1m101/101\u001b[0m \u001b[32m━━━━━━━━━━━━━━━━━━━━\u001b[0m\u001b[37m\u001b[0m \u001b[1m1s\u001b[0m 9ms/step - loss: 7.1396 - val_loss: 7.5036\n",
      "Epoch 20/50\n",
      "\u001b[1m101/101\u001b[0m \u001b[32m━━━━━━━━━━━━━━━━━━━━\u001b[0m\u001b[37m\u001b[0m \u001b[1m1s\u001b[0m 6ms/step - loss: 6.5161 - val_loss: 7.1484\n",
      "Epoch 21/50\n",
      "\u001b[1m101/101\u001b[0m \u001b[32m━━━━━━━━━━━━━━━━━━━━\u001b[0m\u001b[37m\u001b[0m \u001b[1m1s\u001b[0m 6ms/step - loss: 6.3893 - val_loss: 6.8964\n",
      "Epoch 22/50\n",
      "\u001b[1m101/101\u001b[0m \u001b[32m━━━━━━━━━━━━━━━━━━━━\u001b[0m\u001b[37m\u001b[0m \u001b[1m1s\u001b[0m 8ms/step - loss: 6.1343 - val_loss: 6.5512\n",
      "Epoch 23/50\n",
      "\u001b[1m101/101\u001b[0m \u001b[32m━━━━━━━━━━━━━━━━━━━━\u001b[0m\u001b[37m\u001b[0m \u001b[1m1s\u001b[0m 6ms/step - loss: 5.8421 - val_loss: 6.2915\n",
      "Epoch 24/50\n",
      "\u001b[1m101/101\u001b[0m \u001b[32m━━━━━━━━━━━━━━━━━━━━\u001b[0m\u001b[37m\u001b[0m \u001b[1m1s\u001b[0m 6ms/step - loss: 5.6250 - val_loss: 5.9785\n",
      "Epoch 25/50\n",
      "\u001b[1m101/101\u001b[0m \u001b[32m━━━━━━━━━━━━━━━━━━━━\u001b[0m\u001b[37m\u001b[0m \u001b[1m1s\u001b[0m 8ms/step - loss: 5.2738 - val_loss: 5.7357\n",
      "Epoch 26/50\n",
      "\u001b[1m101/101\u001b[0m \u001b[32m━━━━━━━━━━━━━━━━━━━━\u001b[0m\u001b[37m\u001b[0m \u001b[1m1s\u001b[0m 6ms/step - loss: 4.7866 - val_loss: 5.6212\n",
      "Epoch 27/50\n",
      "\u001b[1m101/101\u001b[0m \u001b[32m━━━━━━━━━━━━━━━━━━━━\u001b[0m\u001b[37m\u001b[0m \u001b[1m1s\u001b[0m 6ms/step - loss: 4.8942 - val_loss: 5.1944\n",
      "Epoch 28/50\n",
      "\u001b[1m101/101\u001b[0m \u001b[32m━━━━━━━━━━━━━━━━━━━━\u001b[0m\u001b[37m\u001b[0m \u001b[1m1s\u001b[0m 8ms/step - loss: 4.7344 - val_loss: 4.9538\n",
      "Epoch 29/50\n",
      "\u001b[1m101/101\u001b[0m \u001b[32m━━━━━━━━━━━━━━━━━━━━\u001b[0m\u001b[37m\u001b[0m \u001b[1m1s\u001b[0m 7ms/step - loss: 4.0242 - val_loss: 4.7046\n",
      "Epoch 30/50\n",
      "\u001b[1m101/101\u001b[0m \u001b[32m━━━━━━━━━━━━━━━━━━━━\u001b[0m\u001b[37m\u001b[0m \u001b[1m1s\u001b[0m 6ms/step - loss: 4.0515 - val_loss: 4.4992\n",
      "Epoch 31/50\n",
      "\u001b[1m101/101\u001b[0m \u001b[32m━━━━━━━━━━━━━━━━━━━━\u001b[0m\u001b[37m\u001b[0m \u001b[1m1s\u001b[0m 11ms/step - loss: 4.0291 - val_loss: 4.2188\n",
      "Epoch 32/50\n",
      "\u001b[1m101/101\u001b[0m \u001b[32m━━━━━━━━━━━━━━━━━━━━\u001b[0m\u001b[37m\u001b[0m \u001b[1m1s\u001b[0m 10ms/step - loss: 3.7273 - val_loss: 4.0778\n",
      "Epoch 33/50\n",
      "\u001b[1m101/101\u001b[0m \u001b[32m━━━━━━━━━━━━━━━━━━━━\u001b[0m\u001b[37m\u001b[0m \u001b[1m1s\u001b[0m 11ms/step - loss: 3.5510 - val_loss: 3.7671\n",
      "Epoch 34/50\n",
      "\u001b[1m101/101\u001b[0m \u001b[32m━━━━━━━━━━━━━━━━━━━━\u001b[0m\u001b[37m\u001b[0m \u001b[1m1s\u001b[0m 9ms/step - loss: 3.1998 - val_loss: 3.5727\n",
      "Epoch 35/50\n",
      "\u001b[1m101/101\u001b[0m \u001b[32m━━━━━━━━━━━━━━━━━━━━\u001b[0m\u001b[37m\u001b[0m \u001b[1m1s\u001b[0m 10ms/step - loss: 3.2750 - val_loss: 3.3566\n",
      "Epoch 36/50\n",
      "\u001b[1m101/101\u001b[0m \u001b[32m━━━━━━━━━━━━━━━━━━━━\u001b[0m\u001b[37m\u001b[0m \u001b[1m1s\u001b[0m 7ms/step - loss: 2.8771 - val_loss: 3.3011\n",
      "Epoch 37/50\n",
      "\u001b[1m101/101\u001b[0m \u001b[32m━━━━━━━━━━━━━━━━━━━━\u001b[0m\u001b[37m\u001b[0m \u001b[1m1s\u001b[0m 6ms/step - loss: 3.2768 - val_loss: 2.9899\n",
      "Epoch 38/50\n",
      "\u001b[1m101/101\u001b[0m \u001b[32m━━━━━━━━━━━━━━━━━━━━\u001b[0m\u001b[37m\u001b[0m \u001b[1m1s\u001b[0m 7ms/step - loss: 2.8503 - val_loss: 2.8489\n",
      "Epoch 39/50\n",
      "\u001b[1m101/101\u001b[0m \u001b[32m━━━━━━━━━━━━━━━━━━━━\u001b[0m\u001b[37m\u001b[0m \u001b[1m1s\u001b[0m 10ms/step - loss: 2.5451 - val_loss: 2.6759\n",
      "Epoch 40/50\n",
      "\u001b[1m101/101\u001b[0m \u001b[32m━━━━━━━━━━━━━━━━━━━━\u001b[0m\u001b[37m\u001b[0m \u001b[1m1s\u001b[0m 6ms/step - loss: 2.4086 - val_loss: 2.5217\n",
      "Epoch 41/50\n",
      "\u001b[1m101/101\u001b[0m \u001b[32m━━━━━━━━━━━━━━━━━━━━\u001b[0m\u001b[37m\u001b[0m \u001b[1m1s\u001b[0m 6ms/step - loss: 2.2823 - val_loss: 2.3895\n",
      "Epoch 42/50\n",
      "\u001b[1m101/101\u001b[0m \u001b[32m━━━━━━━━━━━━━━━━━━━━\u001b[0m\u001b[37m\u001b[0m \u001b[1m1s\u001b[0m 8ms/step - loss: 2.0993 - val_loss: 2.2870\n",
      "Epoch 43/50\n",
      "\u001b[1m101/101\u001b[0m \u001b[32m━━━━━━━━━━━━━━━━━━━━\u001b[0m\u001b[37m\u001b[0m \u001b[1m1s\u001b[0m 6ms/step - loss: 1.9221 - val_loss: 2.1296\n",
      "Epoch 44/50\n",
      "\u001b[1m101/101\u001b[0m \u001b[32m━━━━━━━━━━━━━━━━━━━━\u001b[0m\u001b[37m\u001b[0m \u001b[1m1s\u001b[0m 6ms/step - loss: 1.8463 - val_loss: 2.0284\n",
      "Epoch 45/50\n",
      "\u001b[1m101/101\u001b[0m \u001b[32m━━━━━━━━━━━━━━━━━━━━\u001b[0m\u001b[37m\u001b[0m \u001b[1m1s\u001b[0m 6ms/step - loss: 1.8157 - val_loss: 1.9597\n",
      "Epoch 46/50\n",
      "\u001b[1m101/101\u001b[0m \u001b[32m━━━━━━━━━━━━━━━━━━━━\u001b[0m\u001b[37m\u001b[0m \u001b[1m1s\u001b[0m 7ms/step - loss: 1.7431 - val_loss: 1.8465\n",
      "Epoch 47/50\n",
      "\u001b[1m101/101\u001b[0m \u001b[32m━━━━━━━━━━━━━━━━━━━━\u001b[0m\u001b[37m\u001b[0m \u001b[1m1s\u001b[0m 6ms/step - loss: 1.6283 - val_loss: 1.7161\n",
      "Epoch 48/50\n",
      "\u001b[1m101/101\u001b[0m \u001b[32m━━━━━━━━━━━━━━━━━━━━\u001b[0m\u001b[37m\u001b[0m \u001b[1m1s\u001b[0m 6ms/step - loss: 1.6234 - val_loss: 1.6388\n",
      "Epoch 49/50\n",
      "\u001b[1m101/101\u001b[0m \u001b[32m━━━━━━━━━━━━━━━━━━━━\u001b[0m\u001b[37m\u001b[0m \u001b[1m1s\u001b[0m 6ms/step - loss: 1.4869 - val_loss: 1.5468\n",
      "Epoch 50/50\n",
      "\u001b[1m101/101\u001b[0m \u001b[32m━━━━━━━━━━━━━━━━━━━━\u001b[0m\u001b[37m\u001b[0m \u001b[1m1s\u001b[0m 5ms/step - loss: 1.4043 - val_loss: 1.5001\n"
     ]
    },
    {
     "data": {
      "text/plain": [
       "<keras.src.callbacks.history.History at 0x23c925ec5e0>"
      ]
     },
     "execution_count": 20,
     "metadata": {},
     "output_type": "execute_result"
    }
   ],
   "source": [
    "model.compile(loss='MeanSquaredError',optimizer='Adam')\n",
    "model.fit(x_train,y_train,epochs=50,validation_split=0.3)"
   ]
  },
  {
   "cell_type": "code",
   "execution_count": 21,
   "metadata": {
    "colab": {
     "base_uri": "https://localhost:8080/"
    },
    "id": "BkFPC3WFcSJg",
    "outputId": "138d4eeb-a821-4b57-c0c4-f27049a74ad3"
   },
   "outputs": [
    {
     "name": "stdout",
     "output_type": "stream",
     "text": [
      "\u001b[1m37/37\u001b[0m \u001b[32m━━━━━━━━━━━━━━━━━━━━\u001b[0m\u001b[37m\u001b[0m \u001b[1m0s\u001b[0m 6ms/step  \n"
     ]
    }
   ],
   "source": [
    "y_pred=model.predict(x_test)"
   ]
  },
  {
   "cell_type": "markdown",
   "metadata": {},
   "source": [
    "## Here we evaluate our model by using the r2_score and MSE"
   ]
  },
  {
   "cell_type": "code",
   "execution_count": 22,
   "metadata": {
    "colab": {
     "base_uri": "https://localhost:8080/"
    },
    "id": "2deY_xlChhtV",
    "outputId": "ed33649c-72dc-47d8-87d5-aa8d57b87165"
   },
   "outputs": [
    {
     "name": "stdout",
     "output_type": "stream",
     "text": [
      "\u001b[1m37/37\u001b[0m \u001b[32m━━━━━━━━━━━━━━━━━━━━\u001b[0m\u001b[37m\u001b[0m \u001b[1m0s\u001b[0m 4ms/step \n",
      "1.4725244793390202\n",
      "0.9994595779770055\n"
     ]
    }
   ],
   "source": [
    "from sklearn.metrics import mean_squared_error, r2_score\n",
    "\n",
    "y_pred = model.predict(x_test)\n",
    "mse = mean_squared_error(y_test, y_pred)\n",
    "r2 = r2_score(y_test, y_pred)\n",
    "\n",
    "print(mse)\n",
    "print(r2)\n"
   ]
  },
  {
   "cell_type": "markdown",
   "metadata": {},
   "source": [
    "## Here we save our model for the future use and anybody can use it"
   ]
  },
  {
   "cell_type": "code",
   "execution_count": 23,
   "metadata": {
    "id": "Smtg8rJqhnnn"
   },
   "outputs": [
    {
     "data": {
      "text/plain": [
       "['Deep_learning_Stock_Prediction1']"
      ]
     },
     "execution_count": 23,
     "metadata": {},
     "output_type": "execute_result"
    }
   ],
   "source": [
    "import joblib\n",
    "joblib.dump(model,\"Deep_learning_Stock_Prediction1\")"
   ]
  },
  {
   "cell_type": "code",
   "execution_count": 24,
   "metadata": {},
   "outputs": [
    {
     "data": {
      "text/plain": [
       "['StandardScaler1']"
      ]
     },
     "execution_count": 24,
     "metadata": {},
     "output_type": "execute_result"
    }
   ],
   "source": [
    "joblib.dump(ss,\"StandardScaler1\")"
   ]
  },
  {
   "cell_type": "code",
   "execution_count": null,
   "metadata": {},
   "outputs": [],
   "source": []
  }
 ],
 "metadata": {
  "accelerator": "GPU",
  "colab": {
   "gpuType": "T4",
   "provenance": []
  },
  "kernelspec": {
   "display_name": "Python 3 (ipykernel)",
   "language": "python",
   "name": "python3"
  },
  "language_info": {
   "codemirror_mode": {
    "name": "ipython",
    "version": 3
   },
   "file_extension": ".py",
   "mimetype": "text/x-python",
   "name": "python",
   "nbconvert_exporter": "python",
   "pygments_lexer": "ipython3",
   "version": "3.10.0"
  }
 },
 "nbformat": 4,
 "nbformat_minor": 4
}
